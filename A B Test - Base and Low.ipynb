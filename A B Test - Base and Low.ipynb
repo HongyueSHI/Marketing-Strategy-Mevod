{
 "cells": [
  {
   "cell_type": "code",
   "execution_count": 155,
   "metadata": {},
   "outputs": [],
   "source": [
    "import numpy as np\n",
    "import pandas as pd\n",
    "from scipy.stats import norm\n",
    "import datetime\n",
    "import matplotlib.pyplot as plt"
   ]
  },
  {
   "cell_type": "raw",
   "metadata": {},
   "source": [
    "pd.options.display.max_columns = 10"
   ]
  },
  {
   "cell_type": "code",
   "execution_count": 156,
   "metadata": {},
   "outputs": [],
   "source": [
    "def calc_proportion(array_TF):\n",
    "    return sum(array_TF)/len(array_TF)\n",
    "\n",
    "\n",
    "def calc_standard_error(p_f, n_f, phat_f, nhat_f, num_samples_f=1):\n",
    "    # if we assume one sample (Variant B) and Variant A as baseline = population, p_f and n_f are variant A stats\n",
    "    if num_samples_f == 1:\n",
    "        std_err_f = np.sqrt(p_f*(1-p_f)/nhat_f)\n",
    "        print('Std err for %d sample test: np.sqrt(%3.3f * (1 - %3.3f)/ %d) = %3.4f' % (num_samples_f, p_f, p_f, nhat_f, std_err_f))\n",
    "        return std_err_f\n",
    "    # if we assume two samples (Variant A and Variant B both), p_f, n_f, phat_f, nhat_f are the values for each sample\n",
    "    if num_samples_f == 2:\n",
    "        std_err_f = np.sqrt((p_f*(1-p_f)/n_f) + (phat_f * (1-phat_f) / nhat_f))\n",
    "        print('Std err for %d sample test: np.sqrt((%3.3f*(1-%3.3f)/%d) + (%3.3f * (1-%3.3f) / %d))' % (num_samples_f, p_f, p_f, n_f, phat_f, phat_f, nhat_f))\n",
    "        return std_err_f\n",
    "\n",
    "\n",
    "def calc_zscore(phat_f, nhat_f, p_f, n_f=1, num_samples_f=1, two_sample_diff_f=0):\n",
    "    print('Conducting test assuming %d samples' % num_samples_f)\n",
    "    print('z = ((%3.3f - %3.3f) - %d)/std_error' % (phat_f, p_f, two_sample_diff_f))\n",
    "    return ((phat_f - p_f) - two_sample_diff_f)/calc_standard_error(p_f, n_f, phat_f, nhat_f, num_samples_f)\n",
    "\n",
    "\n",
    "def get_z_crit_value(alpha_f, num_sides_f):\n",
    "    return norm.ppf(1-(alpha_f/num_sides_f))\n",
    "\n",
    "\n",
    "def get_p_value(zscore_f, num_sides_f):\n",
    "    return 1 - ((1-norm.cdf(abs(zscore_f))) * num_sides_f)\n",
    "\n",
    "\n",
    "def reject_null(variantA_outcomes_f, variantB_outcomes_f, alpha_f, num_sides_f, num_samples_f):\n",
    "    phat_f = calc_proportion(variantB_outcomes_f)\n",
    "    nhat_f = len(variantB_outcomes_f)\n",
    "    p_f = calc_proportion(variantA_outcomes_f)\n",
    "    n_f = len(variantA_outcomes_f)\n",
    "    print('Proportion 1 (Variant A): %2.3f (%d obs)' % (p_f, n_f))\n",
    "    print('Proportion 2 (Variant B): %2.3f (%d obs)' % (phat_f, nhat_f))\n",
    "    z_score_f = calc_zscore(phat_f, nhat_f, p_f, n_f, num_samples_f)\n",
    "    p_value_f = get_p_value(z_score_f, num_sides_f)\n",
    "    z_crit_f = get_z_crit_value(alpha_f, num_sides_f)\n",
    "\n",
    "    return z_score_f > z_crit_f, z_score_f, p_value_f\n",
    "\n",
    "\n",
    "def calc_optimal_sample_size(p0_f, mde_f, alpha_f, power_f):\n",
    "    t_alpha2 = abs(norm.ppf(alpha_f / 2))   # t-value corresponding to probability of committing a type 1 error in a two sided test; using z instead of t since sample should be large enough and DOF is unknown\n",
    "    t_beta = abs(norm.ppf((1 - power_f)/2))     # t-value corresponding to probability of committing a type 2 error in a two sided test; using z instead of t since sample should be large enough and DOF is unknown\n",
    "\n",
    "    p1_f = p0_f + mde_f     # assumes baseline is provided and lift is in direction provided by MDE\n",
    "    p_avg = (p0_f + p1_f) / 2\n",
    "\n",
    "    sample_size = (t_alpha2*np.sqrt(2*p_avg*(1-p_avg)) + t_beta*np.sqrt(p0_f*(1-p0_f) + p1_f*(1-p1_f)))**2 * (1/(mde_f**2))\n",
    "    return sample_size\n",
    "\n",
    "\n",
    "def sequential_stopping_test(variantB_outcomes_f, p0_f, mde_f, alpha_f, power_f, boundary_f='Wald'):\n",
    "    def calc_z(p0_ff, p1_ff):\n",
    "        return np.log(p1_ff/p0_ff)\n",
    "\n",
    "    beta_f = 1-power_f\n",
    "    p1_f = p0_f + mde_f\n",
    "\n",
    "    if boundary_f == 'Wald':\n",
    "        # Wald\n",
    "        A = (1 - beta_f) / alpha_f\n",
    "        B = beta_f / (1 - alpha_f)\n",
    "    else:\n",
    "        # conservative\n",
    "        A = 1/alpha_f\n",
    "        B = beta_f\n",
    "\n",
    "    lower_boundary = np.log(B)\n",
    "    upper_boundary = np.log(A)\n",
    "\n",
    "    log_lambda = 0\n",
    "    n_iter = 0\n",
    "    log_lambda_list = list()\n",
    "    for t_outcome in variantB_outcomes_f:\n",
    "        z = calc_z(p0_ff=abs(p0_f-(1-t_outcome)), p1_ff=abs(p1_f-(1-t_outcome)))\n",
    "        log_lambda = log_lambda + z\n",
    "        log_lambda_list.append(log_lambda)\n",
    "        n_iter = n_iter + 1\n",
    "        # check stopping criteria\n",
    "        if log_lambda < lower_boundary:\n",
    "            return {'reject null': False, 'num_iter': n_iter, 'A': A, 'B': B, 'log_lambda': log_lambda_list}\n",
    "        elif log_lambda > upper_boundary:\n",
    "            return {'reject null': True, 'num_iter': n_iter, 'A': A, 'B': B, 'log_lambda': log_lambda_list}\n",
    "\n",
    "    # if test looks at all data points\n",
    "    return {'reject null': False, 'num_iter': n_iter, 'A': A, 'B': B, 'log_lambda': log_lambda_list}"
   ]
  },
  {
   "cell_type": "markdown",
   "metadata": {},
   "source": [
    "## A/B test number"
   ]
  },
  {
   "cell_type": "raw",
   "metadata": {},
   "source": [
    "# A/B test - number\n",
    "\n",
    "# A/B test - proportion\n",
    "\n",
    "def calc_average(array_TF):\n",
    "    return sum(array_TF)/len(array_TF)\n",
    "\n",
    "\n",
    "def calc_standard_error(a_f, n_f, hat_f, nhat_f, num_samples_f=1):\n",
    "    # if we assume one sample (Variant B) and Variant A as baseline = population, a_f and n_f are variant A stats\n",
    "    if num_samples_f == 1:\n",
    "        # std_err_f = np.sqrt(a_f*(1-a_f)/nhat_f) \n",
    "        std_err_f = np.std(a_f,ddof=1) / np.sqrt(nhat_f)\n",
    "        print('Std err for %d sample test: np.sqrt(%3.3f * (1 - %3.3f)/ %d) = %3.4f' % (num_samples_f, a_f, a_f, nhat_f, std_err_f))\n",
    "        return std_err_f\n",
    "    \n",
    "    # if we assume two samples (Variant A and Variant B both), a_f, n_f, hat_f, nhat_f are the values for each sample\n",
    "    # if num_samples_f == 2:\n",
    "        # std_err_f = np.sqrt((a_f*(1-a_f)/n_f) + (hat_f * (1-hat_f) / nhat_f))\n",
    "        # print('Std err for %d sample test: np.sqrt((%3.3f*(1-%3.3f)/%d) + (%3.3f * (1-%3.3f) / %d))' % (num_samples_f, a_f, a_f, n_f, hat_f, hat_f, nhat_f))\n",
    "        # return std_err_f\n",
    "\n",
    "\n",
    "def calc_zscore(hat_f, nhat_f, a_f, n_f=1, num_samples_f=1, two_sample_diff_f=0):\n",
    "    print('Conducting test assuming %d samples' % num_samples_f)\n",
    "    print('z = ((%3.3f - %3.3f) - %d)/std_error' % (hat_f, a_f, two_sample_diff_f))\n",
    "    return ((hat_f - a_f) - two_sample_diff_f)/calc_standard_error(a_f, n_f, hat_f, nhat_f, num_samples_f)\n",
    "\n",
    "\n",
    "def get_z_crit_value(alpha_f, num_sides_f):\n",
    "    return norm.ppf(1-(alpha_f/num_sides_f))\n",
    "\n",
    "\n",
    "def get_p_value(zscore_f, num_sides_f):\n",
    "    return 1 - ((1-norm.cdf(abs(zscore_f))) * num_sides_f)\n",
    "\n",
    "\n",
    "def reject_null(variantA_outcomes_f, variantB_outcomes_f, alpha_f, num_sides_f, num_samples_f):\n",
    "    #phat_f = calc_proportion(variantB_outcomes_f)\n",
    "    hat_f = calc_average(variantB_outcomes_f)\n",
    "    nhat_f = len(variantB_outcomes_f)\n",
    "    #p_f = calc_proportion(variantA_outcomes_f)\n",
    "    a_f = calc_proportion(variantA_outcomes_f)\n",
    "    n_f = len(variantA_outcomes_f)\n",
    "    print('Proportion 1 (Variant A): %2.3f (%d obs)' % (a_f, n_f))\n",
    "    print('Proportion 2 (Variant B): %2.3f (%d obs)' % (hat_f, nhat_f))\n",
    "    z_score_f = calc_zscore(hat_f, nhat_f, a_f, n_f, num_samples_f)\n",
    "    p_value_f = get_p_value(z_score_f, num_sides_f)\n",
    "    z_crit_f = get_z_crit_value(alpha_f, num_sides_f)\n",
    "\n",
    "    return z_score_f > z_crit_f, z_score_f, p_value_f\n",
    "\n",
    "\n"
   ]
  },
  {
   "cell_type": "markdown",
   "metadata": {},
   "source": [
    "## set trial month"
   ]
  },
  {
   "cell_type": "code",
   "execution_count": 157,
   "metadata": {},
   "outputs": [],
   "source": [
    "# ----- Provide parameters\n",
    "trial_start_date = datetime.date(year=2019, month=7, day=1)"
   ]
  },
  {
   "cell_type": "markdown",
   "metadata": {},
   "source": [
    "## read data"
   ]
  },
  {
   "cell_type": "code",
   "execution_count": 158,
   "metadata": {},
   "outputs": [],
   "source": [
    "\n",
    "\n",
    "# ----- Read in data -----\n",
    "df = pd.read_csv('subscribers.csv')\n"
   ]
  },
  {
   "cell_type": "code",
   "execution_count": 159,
   "metadata": {},
   "outputs": [],
   "source": [
    "df = df.loc[:,['label','plan_type','account_creation_date','subid']]\n",
    "df = df.rename({'account_creation_date':'date'},axis = 1)\n",
    "df = df.rename({'subid':'id'},axis = 1)"
   ]
  },
  {
   "cell_type": "markdown",
   "metadata": {},
   "source": [
    "## choose variance A and B\n",
    "## use conversion rate"
   ]
  },
  {
   "cell_type": "code",
   "execution_count": 160,
   "metadata": {},
   "outputs": [],
   "source": [
    "# choose variance A and B\n",
    "df = df[df['plan_type'].isin(['base_uae_14_day_trial','low_uae_no_trial'])]\n"
   ]
  },
  {
   "cell_type": "code",
   "execution_count": 161,
   "metadata": {},
   "outputs": [
    {
     "data": {
      "text/plain": [
       "array(['base_uae_14_day_trial', 'low_uae_no_trial'], dtype=object)"
      ]
     },
     "execution_count": 161,
     "metadata": {},
     "output_type": "execute_result"
    }
   ],
   "source": [
    "df['plan_type'].unique()"
   ]
  },
  {
   "cell_type": "code",
   "execution_count": 162,
   "metadata": {},
   "outputs": [],
   "source": [
    "df['variant'] = df['plan_type'].apply(lambda x: 'A' if x == 'base_uae_14_day_trial' else 'B' )\n",
    "df['convert_tf'] = df['label'].apply(lambda x: True if x in ['churn','retain'] else False )"
   ]
  },
  {
   "cell_type": "code",
   "execution_count": 163,
   "metadata": {},
   "outputs": [],
   "source": [
    "df['plan_type'] = df['variant']\n",
    "df = df.rename({'plan_type':'Variant'},axis = 1)\n",
    "df = df.drop('variant', axis = 1)\n",
    "df['label'] = df['convert_tf']\n",
    "df = df.rename({'label':'Convert_TF'},axis = 1)\n",
    "df = df.drop('convert_tf', axis = 1)"
   ]
  },
  {
   "cell_type": "code",
   "execution_count": 164,
   "metadata": {},
   "outputs": [
    {
     "data": {
      "text/html": [
       "<div>\n",
       "<style scoped>\n",
       "    .dataframe tbody tr th:only-of-type {\n",
       "        vertical-align: middle;\n",
       "    }\n",
       "\n",
       "    .dataframe tbody tr th {\n",
       "        vertical-align: top;\n",
       "    }\n",
       "\n",
       "    .dataframe thead th {\n",
       "        text-align: right;\n",
       "    }\n",
       "</style>\n",
       "<table border=\"1\" class=\"dataframe\">\n",
       "  <thead>\n",
       "    <tr style=\"text-align: right;\">\n",
       "      <th></th>\n",
       "      <th>Convert_TF</th>\n",
       "      <th>Variant</th>\n",
       "      <th>date</th>\n",
       "      <th>id</th>\n",
       "    </tr>\n",
       "  </thead>\n",
       "  <tbody>\n",
       "    <tr>\n",
       "      <th>0</th>\n",
       "      <td>True</td>\n",
       "      <td>A</td>\n",
       "      <td>1/24/2020 21:44</td>\n",
       "      <td>21724479</td>\n",
       "    </tr>\n",
       "    <tr>\n",
       "      <th>1</th>\n",
       "      <td>True</td>\n",
       "      <td>A</td>\n",
       "      <td>3/1/2020 15:44</td>\n",
       "      <td>23383224</td>\n",
       "    </tr>\n",
       "    <tr>\n",
       "      <th>2</th>\n",
       "      <td>False</td>\n",
       "      <td>A</td>\n",
       "      <td>12/7/2019 16:37</td>\n",
       "      <td>26844789</td>\n",
       "    </tr>\n",
       "    <tr>\n",
       "      <th>3</th>\n",
       "      <td>False</td>\n",
       "      <td>A</td>\n",
       "      <td>1/27/2020 16:09</td>\n",
       "      <td>29417030</td>\n",
       "    </tr>\n",
       "    <tr>\n",
       "      <th>4</th>\n",
       "      <td>True</td>\n",
       "      <td>A</td>\n",
       "      <td>10/5/2019 12:57</td>\n",
       "      <td>26723159</td>\n",
       "    </tr>\n",
       "    <tr>\n",
       "      <th>...</th>\n",
       "      <td>...</td>\n",
       "      <td>...</td>\n",
       "      <td>...</td>\n",
       "      <td>...</td>\n",
       "    </tr>\n",
       "    <tr>\n",
       "      <th>227623</th>\n",
       "      <td>True</td>\n",
       "      <td>A</td>\n",
       "      <td>11/17/2019 14:12</td>\n",
       "      <td>21434712</td>\n",
       "    </tr>\n",
       "    <tr>\n",
       "      <th>227624</th>\n",
       "      <td>True</td>\n",
       "      <td>A</td>\n",
       "      <td>12/6/2019 18:02</td>\n",
       "      <td>25843074</td>\n",
       "    </tr>\n",
       "    <tr>\n",
       "      <th>227625</th>\n",
       "      <td>True</td>\n",
       "      <td>A</td>\n",
       "      <td>12/21/2019 19:40</td>\n",
       "      <td>24799085</td>\n",
       "    </tr>\n",
       "    <tr>\n",
       "      <th>227626</th>\n",
       "      <td>True</td>\n",
       "      <td>A</td>\n",
       "      <td>1/17/2020 23:58</td>\n",
       "      <td>21308040</td>\n",
       "    </tr>\n",
       "    <tr>\n",
       "      <th>227627</th>\n",
       "      <td>False</td>\n",
       "      <td>A</td>\n",
       "      <td>11/26/2019 19:09</td>\n",
       "      <td>20166335</td>\n",
       "    </tr>\n",
       "  </tbody>\n",
       "</table>\n",
       "<p>227263 rows × 4 columns</p>\n",
       "</div>"
      ],
      "text/plain": [
       "        Convert_TF Variant              date        id\n",
       "0             True       A   1/24/2020 21:44  21724479\n",
       "1             True       A    3/1/2020 15:44  23383224\n",
       "2            False       A   12/7/2019 16:37  26844789\n",
       "3            False       A   1/27/2020 16:09  29417030\n",
       "4             True       A   10/5/2019 12:57  26723159\n",
       "...            ...     ...               ...       ...\n",
       "227623        True       A  11/17/2019 14:12  21434712\n",
       "227624        True       A   12/6/2019 18:02  25843074\n",
       "227625        True       A  12/21/2019 19:40  24799085\n",
       "227626        True       A   1/17/2020 23:58  21308040\n",
       "227627       False       A  11/26/2019 19:09  20166335\n",
       "\n",
       "[227263 rows x 4 columns]"
      ]
     },
     "execution_count": 164,
     "metadata": {},
     "output_type": "execute_result"
    }
   ],
   "source": [
    "df"
   ]
  },
  {
   "cell_type": "code",
   "execution_count": 165,
   "metadata": {},
   "outputs": [],
   "source": [
    "df.date = pd.to_datetime(df.date, format='%m/%d/%Y %H:%M')    # parse string format"
   ]
  },
  {
   "cell_type": "code",
   "execution_count": 166,
   "metadata": {},
   "outputs": [],
   "source": [
    "df.date = df.date.apply(lambda x: datetime.date(year=x.year, month=x.month, day=x.day)) # convert to standard (non-pandas) format for comparison against other dates"
   ]
  },
  {
   "cell_type": "code",
   "execution_count": 167,
   "metadata": {},
   "outputs": [
    {
     "data": {
      "text/html": [
       "<div>\n",
       "<style scoped>\n",
       "    .dataframe tbody tr th:only-of-type {\n",
       "        vertical-align: middle;\n",
       "    }\n",
       "\n",
       "    .dataframe tbody tr th {\n",
       "        vertical-align: top;\n",
       "    }\n",
       "\n",
       "    .dataframe thead th {\n",
       "        text-align: right;\n",
       "    }\n",
       "</style>\n",
       "<table border=\"1\" class=\"dataframe\">\n",
       "  <thead>\n",
       "    <tr style=\"text-align: right;\">\n",
       "      <th></th>\n",
       "      <th>Convert_TF</th>\n",
       "      <th>Variant</th>\n",
       "      <th>date</th>\n",
       "      <th>id</th>\n",
       "    </tr>\n",
       "  </thead>\n",
       "  <tbody>\n",
       "    <tr>\n",
       "      <th>0</th>\n",
       "      <td>True</td>\n",
       "      <td>A</td>\n",
       "      <td>2020-01-24</td>\n",
       "      <td>21724479</td>\n",
       "    </tr>\n",
       "    <tr>\n",
       "      <th>1</th>\n",
       "      <td>True</td>\n",
       "      <td>A</td>\n",
       "      <td>2020-03-01</td>\n",
       "      <td>23383224</td>\n",
       "    </tr>\n",
       "    <tr>\n",
       "      <th>2</th>\n",
       "      <td>False</td>\n",
       "      <td>A</td>\n",
       "      <td>2019-12-07</td>\n",
       "      <td>26844789</td>\n",
       "    </tr>\n",
       "    <tr>\n",
       "      <th>3</th>\n",
       "      <td>False</td>\n",
       "      <td>A</td>\n",
       "      <td>2020-01-27</td>\n",
       "      <td>29417030</td>\n",
       "    </tr>\n",
       "    <tr>\n",
       "      <th>4</th>\n",
       "      <td>True</td>\n",
       "      <td>A</td>\n",
       "      <td>2019-10-05</td>\n",
       "      <td>26723159</td>\n",
       "    </tr>\n",
       "    <tr>\n",
       "      <th>...</th>\n",
       "      <td>...</td>\n",
       "      <td>...</td>\n",
       "      <td>...</td>\n",
       "      <td>...</td>\n",
       "    </tr>\n",
       "    <tr>\n",
       "      <th>227623</th>\n",
       "      <td>True</td>\n",
       "      <td>A</td>\n",
       "      <td>2019-11-17</td>\n",
       "      <td>21434712</td>\n",
       "    </tr>\n",
       "    <tr>\n",
       "      <th>227624</th>\n",
       "      <td>True</td>\n",
       "      <td>A</td>\n",
       "      <td>2019-12-06</td>\n",
       "      <td>25843074</td>\n",
       "    </tr>\n",
       "    <tr>\n",
       "      <th>227625</th>\n",
       "      <td>True</td>\n",
       "      <td>A</td>\n",
       "      <td>2019-12-21</td>\n",
       "      <td>24799085</td>\n",
       "    </tr>\n",
       "    <tr>\n",
       "      <th>227626</th>\n",
       "      <td>True</td>\n",
       "      <td>A</td>\n",
       "      <td>2020-01-17</td>\n",
       "      <td>21308040</td>\n",
       "    </tr>\n",
       "    <tr>\n",
       "      <th>227627</th>\n",
       "      <td>False</td>\n",
       "      <td>A</td>\n",
       "      <td>2019-11-26</td>\n",
       "      <td>20166335</td>\n",
       "    </tr>\n",
       "  </tbody>\n",
       "</table>\n",
       "<p>227263 rows × 4 columns</p>\n",
       "</div>"
      ],
      "text/plain": [
       "        Convert_TF Variant        date        id\n",
       "0             True       A  2020-01-24  21724479\n",
       "1             True       A  2020-03-01  23383224\n",
       "2            False       A  2019-12-07  26844789\n",
       "3            False       A  2020-01-27  29417030\n",
       "4             True       A  2019-10-05  26723159\n",
       "...            ...     ...         ...       ...\n",
       "227623        True       A  2019-11-17  21434712\n",
       "227624        True       A  2019-12-06  25843074\n",
       "227625        True       A  2019-12-21  24799085\n",
       "227626        True       A  2020-01-17  21308040\n",
       "227627       False       A  2019-11-26  20166335\n",
       "\n",
       "[227263 rows x 4 columns]"
      ]
     },
     "execution_count": 167,
     "metadata": {},
     "output_type": "execute_result"
    }
   ],
   "source": [
    "df"
   ]
  },
  {
   "cell_type": "code",
   "execution_count": 168,
   "metadata": {},
   "outputs": [],
   "source": [
    "# ----- Get summary stats -----\n",
    "df['year'] = pd.DatetimeIndex(df['date']).year\n",
    "df['month'] = pd.DatetimeIndex(df['date']).month"
   ]
  },
  {
   "cell_type": "code",
   "execution_count": 170,
   "metadata": {},
   "outputs": [],
   "source": [
    "df_summary = df[['year', 'month', 'Variant', 'id', 'Convert_TF']].groupby(['year', 'month', 'Variant']).agg({'id': 'count', 'Convert_TF': 'sum'}).rename(columns={'id': 'num_exposures', 'Convert_TF': 'num_paying'})"
   ]
  },
  {
   "cell_type": "code",
   "execution_count": 171,
   "metadata": {},
   "outputs": [],
   "source": [
    "df_summary['conv_rate'] = df_summary['num_paying']/df_summary['num_exposures']"
   ]
  },
  {
   "cell_type": "code",
   "execution_count": 172,
   "metadata": {},
   "outputs": [],
   "source": [
    "perc_vA = df_summary.loc[(trial_start_date.year, trial_start_date.month, 'A'), 'num_paying'] / df_summary.loc[(trial_start_date.year, trial_start_date.month, 'A'), 'num_exposures']\n",
    "perc_vB = df_summary.loc[(trial_start_date.year, trial_start_date.month, 'B'), 'num_paying'] / df_summary.loc[(trial_start_date.year, trial_start_date.month, 'B'), 'num_exposures']"
   ]
  },
  {
   "cell_type": "code",
   "execution_count": 173,
   "metadata": {},
   "outputs": [
    {
     "data": {
      "text/plain": [
       "25554.0"
      ]
     },
     "execution_count": 173,
     "metadata": {},
     "output_type": "execute_result"
    }
   ],
   "source": [
    "df_summary.loc[(trial_start_date.year, trial_start_date.month, 'A'), 'num_exposures']"
   ]
  },
  {
   "cell_type": "code",
   "execution_count": 174,
   "metadata": {},
   "outputs": [
    {
     "name": "stdout",
     "output_type": "stream",
     "text": [
      "For month beginning 2019-07-01, Variant A had 25554 exposures (26.5%) and Variant B had 144 exposures (52.8%)\n"
     ]
    }
   ],
   "source": [
    "print('For month beginning %s, Variant A had %d exposures (%3.1f%%) and Variant B had %d exposures (%3.1f%%)' % (trial_start_date, int(df_summary.loc[(trial_start_date.year, trial_start_date.month, 'A'), 'num_exposures']), perc_vA*100, int(df_summary.loc[(trial_start_date.year, trial_start_date.month, 'B'), 'num_exposures']), perc_vB*100))"
   ]
  },
  {
   "cell_type": "code",
   "execution_count": 202,
   "metadata": {},
   "outputs": [
    {
     "data": {
      "text/plain": [
       "datetime.date(2020, 3, 1)"
      ]
     },
     "execution_count": 202,
     "metadata": {},
     "output_type": "execute_result"
    }
   ],
   "source": [
    "df['date'][1]"
   ]
  },
  {
   "cell_type": "code",
   "execution_count": 220,
   "metadata": {},
   "outputs": [],
   "source": [
    "df_date = df.loc[df['date'] >= datetime.date(2019, 7, 1), :]\n",
    "df_date = df_date.loc[df_date['date'] <= datetime.date(2019, 7, 31)]"
   ]
  },
  {
   "cell_type": "code",
   "execution_count": 221,
   "metadata": {},
   "outputs": [
    {
     "data": {
      "text/html": [
       "<div>\n",
       "<style scoped>\n",
       "    .dataframe tbody tr th:only-of-type {\n",
       "        vertical-align: middle;\n",
       "    }\n",
       "\n",
       "    .dataframe tbody tr th {\n",
       "        vertical-align: top;\n",
       "    }\n",
       "\n",
       "    .dataframe thead th {\n",
       "        text-align: right;\n",
       "    }\n",
       "</style>\n",
       "<table border=\"1\" class=\"dataframe\">\n",
       "  <thead>\n",
       "    <tr style=\"text-align: right;\">\n",
       "      <th></th>\n",
       "      <th>Convert_TF</th>\n",
       "      <th>Variant</th>\n",
       "      <th>date</th>\n",
       "      <th>id</th>\n",
       "      <th>year</th>\n",
       "      <th>month</th>\n",
       "    </tr>\n",
       "  </thead>\n",
       "  <tbody>\n",
       "    <tr>\n",
       "      <th>10</th>\n",
       "      <td>True</td>\n",
       "      <td>A</td>\n",
       "      <td>2019-07-11</td>\n",
       "      <td>21191741</td>\n",
       "      <td>2019</td>\n",
       "      <td>7</td>\n",
       "    </tr>\n",
       "    <tr>\n",
       "      <th>14</th>\n",
       "      <td>False</td>\n",
       "      <td>A</td>\n",
       "      <td>2019-07-06</td>\n",
       "      <td>26308559</td>\n",
       "      <td>2019</td>\n",
       "      <td>7</td>\n",
       "    </tr>\n",
       "    <tr>\n",
       "      <th>19</th>\n",
       "      <td>False</td>\n",
       "      <td>A</td>\n",
       "      <td>2019-07-06</td>\n",
       "      <td>21760199</td>\n",
       "      <td>2019</td>\n",
       "      <td>7</td>\n",
       "    </tr>\n",
       "    <tr>\n",
       "      <th>23</th>\n",
       "      <td>False</td>\n",
       "      <td>A</td>\n",
       "      <td>2019-07-13</td>\n",
       "      <td>29576692</td>\n",
       "      <td>2019</td>\n",
       "      <td>7</td>\n",
       "    </tr>\n",
       "    <tr>\n",
       "      <th>38</th>\n",
       "      <td>False</td>\n",
       "      <td>A</td>\n",
       "      <td>2019-07-04</td>\n",
       "      <td>25698109</td>\n",
       "      <td>2019</td>\n",
       "      <td>7</td>\n",
       "    </tr>\n",
       "    <tr>\n",
       "      <th>...</th>\n",
       "      <td>...</td>\n",
       "      <td>...</td>\n",
       "      <td>...</td>\n",
       "      <td>...</td>\n",
       "      <td>...</td>\n",
       "      <td>...</td>\n",
       "    </tr>\n",
       "    <tr>\n",
       "      <th>227586</th>\n",
       "      <td>True</td>\n",
       "      <td>A</td>\n",
       "      <td>2019-07-08</td>\n",
       "      <td>23189569</td>\n",
       "      <td>2019</td>\n",
       "      <td>7</td>\n",
       "    </tr>\n",
       "    <tr>\n",
       "      <th>227597</th>\n",
       "      <td>True</td>\n",
       "      <td>A</td>\n",
       "      <td>2019-07-03</td>\n",
       "      <td>28985855</td>\n",
       "      <td>2019</td>\n",
       "      <td>7</td>\n",
       "    </tr>\n",
       "    <tr>\n",
       "      <th>227602</th>\n",
       "      <td>False</td>\n",
       "      <td>A</td>\n",
       "      <td>2019-07-21</td>\n",
       "      <td>29909208</td>\n",
       "      <td>2019</td>\n",
       "      <td>7</td>\n",
       "    </tr>\n",
       "    <tr>\n",
       "      <th>227606</th>\n",
       "      <td>False</td>\n",
       "      <td>A</td>\n",
       "      <td>2019-07-25</td>\n",
       "      <td>25927672</td>\n",
       "      <td>2019</td>\n",
       "      <td>7</td>\n",
       "    </tr>\n",
       "    <tr>\n",
       "      <th>227610</th>\n",
       "      <td>False</td>\n",
       "      <td>A</td>\n",
       "      <td>2019-07-12</td>\n",
       "      <td>26263998</td>\n",
       "      <td>2019</td>\n",
       "      <td>7</td>\n",
       "    </tr>\n",
       "  </tbody>\n",
       "</table>\n",
       "<p>25698 rows × 6 columns</p>\n",
       "</div>"
      ],
      "text/plain": [
       "        Convert_TF Variant        date        id  year  month\n",
       "10            True       A  2019-07-11  21191741  2019      7\n",
       "14           False       A  2019-07-06  26308559  2019      7\n",
       "19           False       A  2019-07-06  21760199  2019      7\n",
       "23           False       A  2019-07-13  29576692  2019      7\n",
       "38           False       A  2019-07-04  25698109  2019      7\n",
       "...            ...     ...         ...       ...   ...    ...\n",
       "227586        True       A  2019-07-08  23189569  2019      7\n",
       "227597        True       A  2019-07-03  28985855  2019      7\n",
       "227602       False       A  2019-07-21  29909208  2019      7\n",
       "227606       False       A  2019-07-25  25927672  2019      7\n",
       "227610       False       A  2019-07-12  26263998  2019      7\n",
       "\n",
       "[25698 rows x 6 columns]"
      ]
     },
     "execution_count": 221,
     "metadata": {},
     "output_type": "execute_result"
    }
   ],
   "source": [
    "df_date"
   ]
  },
  {
   "cell_type": "code",
   "execution_count": 181,
   "metadata": {},
   "outputs": [
    {
     "data": {
      "text/plain": [
       "Series([], Name: Convert_TF, dtype: bool)"
      ]
     },
     "execution_count": 181,
     "metadata": {},
     "output_type": "execute_result"
    }
   ],
   "source": [
    "variantA_outcomes"
   ]
  },
  {
   "cell_type": "code",
   "execution_count": 223,
   "metadata": {},
   "outputs": [
    {
     "name": "stdout",
     "output_type": "stream",
     "text": [
      "\n",
      "Run hypothesis test:\n",
      "Proportion 1 (Variant A): 0.265 (25554 obs)\n",
      "Proportion 2 (Variant B): 0.528 (144 obs)\n",
      "Conducting test assuming 1 samples\n",
      "z = ((0.528 - 0.265) - 0)/std_error\n",
      "Std err for 1 sample test: np.sqrt(0.265 * (1 - 0.265)/ 144) = 0.0368\n",
      "For 1-sided, 1-sample test, reject null T/F?: True\n",
      "z-score = 7.135 and p-value = 100.0%\n"
     ]
    }
   ],
   "source": [
    "# ------ Question 1 ------\n",
    "# set parameters\n",
    "alpha = 0.05    # significance level\n",
    "num_sides = 1   # one-sided=1 or two-sided=2 test\n",
    "num_samples = 1 # treat Variant A as population or sample\n",
    "\n",
    "# set trial data\n",
    "df_date = df.loc[df['date'] >= datetime.date(2019, 7, 1), :]\n",
    "df_date = df_date.loc[df_date['date'] <= datetime.date(2019, 7, 31)]\n",
    "\n",
    "\n",
    "variantA_outcomes = df_date.loc[df_date['Variant'] == 'A', 'Convert_TF']\n",
    "variantB_outcomes = df_date.loc[df_date['Variant'] == 'B', 'Convert_TF']\n",
    "\n",
    "# --- conduct tests\n",
    "print('\\nRun hypothesis test:')\n",
    "if num_samples == 1:\n",
    "    reject_null_test, z_score, p_value = reject_null(variantA_outcomes, variantB_outcomes, alpha, num_sides, num_samples)\n",
    "if num_samples == 2:\n",
    "    # if Variant A is treated as a sample, use August data only\n",
    "    reject_null_test, z_score, p_value = reject_null(df.loc[(df['Variant'] == 'A') & (df.date >= trial_start_date), 'purchase_TF'],\n",
    "                                                     df.loc[(df['Variant'] == 'B') & (df.date >= trial_start_date), 'purchase_TF'],\n",
    "                                                     alpha, num_sides, num_samples)\n",
    "print('For %d-sided, %d-sample test, reject null T/F?: %s' % (num_sides, num_samples, reject_null_test))\n",
    "print('z-score = %3.3f and p-value = %3.1f%%' % (z_score, p_value*100))"
   ]
  },
  {
   "cell_type": "code",
   "execution_count": null,
   "metadata": {},
   "outputs": [],
   "source": []
  }
 ],
 "metadata": {
  "kernelspec": {
   "display_name": "Python 3",
   "language": "python",
   "name": "python3"
  },
  "language_info": {
   "codemirror_mode": {
    "name": "ipython",
    "version": 3
   },
   "file_extension": ".py",
   "mimetype": "text/x-python",
   "name": "python",
   "nbconvert_exporter": "python",
   "pygments_lexer": "ipython3",
   "version": "3.8.3"
  }
 },
 "nbformat": 4,
 "nbformat_minor": 4
}
