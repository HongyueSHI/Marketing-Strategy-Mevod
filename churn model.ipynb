{
 "cells": [
  {
   "cell_type": "code",
   "execution_count": 161,
   "metadata": {},
   "outputs": [],
   "source": [
    "import pandas as pd\n",
    "df = pd.read_csv('subscribers_for_churn_model.csv')"
   ]
  },
  {
   "cell_type": "code",
   "execution_count": 162,
   "metadata": {},
   "outputs": [
    {
     "data": {
      "text/html": [
       "<div>\n",
       "<style scoped>\n",
       "    .dataframe tbody tr th:only-of-type {\n",
       "        vertical-align: middle;\n",
       "    }\n",
       "\n",
       "    .dataframe tbody tr th {\n",
       "        vertical-align: top;\n",
       "    }\n",
       "\n",
       "    .dataframe thead th {\n",
       "        text-align: right;\n",
       "    }\n",
       "</style>\n",
       "<table border=\"1\" class=\"dataframe\">\n",
       "  <thead>\n",
       "    <tr style=\"text-align: right;\">\n",
       "      <th></th>\n",
       "      <th>subid</th>\n",
       "      <th>package_type</th>\n",
       "      <th>num_weekly_services_utilized</th>\n",
       "      <th>preferred_genre</th>\n",
       "      <th>intended_use</th>\n",
       "      <th>weekly_consumption_hour</th>\n",
       "      <th>num_ideal_streaming_services</th>\n",
       "      <th>age</th>\n",
       "      <th>male_TF</th>\n",
       "      <th>attribution_technical</th>\n",
       "      <th>attribution_survey</th>\n",
       "      <th>op_sys</th>\n",
       "      <th>account_creation_date</th>\n",
       "      <th>initial_credit_card_declined</th>\n",
       "      <th>join_fee</th>\n",
       "      <th>payment_type</th>\n",
       "      <th>payment_period</th>\n",
       "      <th>churn_TF</th>\n",
       "    </tr>\n",
       "  </thead>\n",
       "  <tbody>\n",
       "    <tr>\n",
       "      <th>0</th>\n",
       "      <td>21724479</td>\n",
       "      <td>economy</td>\n",
       "      <td>NaN</td>\n",
       "      <td>comedy</td>\n",
       "      <td>access to exclusive content</td>\n",
       "      <td>NaN</td>\n",
       "      <td>NaN</td>\n",
       "      <td>NaN</td>\n",
       "      <td>False</td>\n",
       "      <td>facebook</td>\n",
       "      <td>facebook</td>\n",
       "      <td>Android</td>\n",
       "      <td>202001</td>\n",
       "      <td>False</td>\n",
       "      <td>NaN</td>\n",
       "      <td>Standard Charter</td>\n",
       "      <td>1</td>\n",
       "      <td>0</td>\n",
       "    </tr>\n",
       "    <tr>\n",
       "      <th>1</th>\n",
       "      <td>23383224</td>\n",
       "      <td>base</td>\n",
       "      <td>NaN</td>\n",
       "      <td>comedy</td>\n",
       "      <td>access to exclusive content</td>\n",
       "      <td>22.951579</td>\n",
       "      <td>NaN</td>\n",
       "      <td>70.0</td>\n",
       "      <td>False</td>\n",
       "      <td>facebook</td>\n",
       "      <td>facebook</td>\n",
       "      <td>NaN</td>\n",
       "      <td>202003</td>\n",
       "      <td>False</td>\n",
       "      <td>0.3303</td>\n",
       "      <td>NaN</td>\n",
       "      <td>1</td>\n",
       "      <td>0</td>\n",
       "    </tr>\n",
       "    <tr>\n",
       "      <th>2</th>\n",
       "      <td>26844789</td>\n",
       "      <td>enhanced</td>\n",
       "      <td>3.0</td>\n",
       "      <td>regional</td>\n",
       "      <td>replace OTT</td>\n",
       "      <td>36.001186</td>\n",
       "      <td>2.0</td>\n",
       "      <td>25.0</td>\n",
       "      <td>True</td>\n",
       "      <td>organic</td>\n",
       "      <td>facebook</td>\n",
       "      <td>iOS</td>\n",
       "      <td>201912</td>\n",
       "      <td>False</td>\n",
       "      <td>0.1101</td>\n",
       "      <td>NaN</td>\n",
       "      <td>0</td>\n",
       "      <td>1</td>\n",
       "    </tr>\n",
       "    <tr>\n",
       "      <th>3</th>\n",
       "      <td>29417030</td>\n",
       "      <td>base</td>\n",
       "      <td>NaN</td>\n",
       "      <td>drama</td>\n",
       "      <td>replace OTT</td>\n",
       "      <td>20.051667</td>\n",
       "      <td>NaN</td>\n",
       "      <td>30.0</td>\n",
       "      <td>False</td>\n",
       "      <td>search</td>\n",
       "      <td>tv</td>\n",
       "      <td>Android</td>\n",
       "      <td>202001</td>\n",
       "      <td>False</td>\n",
       "      <td>0.0367</td>\n",
       "      <td>NaN</td>\n",
       "      <td>0</td>\n",
       "      <td>1</td>\n",
       "    </tr>\n",
       "    <tr>\n",
       "      <th>4</th>\n",
       "      <td>26723159</td>\n",
       "      <td>base</td>\n",
       "      <td>4.0</td>\n",
       "      <td>comedy</td>\n",
       "      <td>replace OTT</td>\n",
       "      <td>22.951579</td>\n",
       "      <td>3.0</td>\n",
       "      <td>28.0</td>\n",
       "      <td>False</td>\n",
       "      <td>discovery</td>\n",
       "      <td>youtube</td>\n",
       "      <td>iOS</td>\n",
       "      <td>201910</td>\n",
       "      <td>False</td>\n",
       "      <td>0.0367</td>\n",
       "      <td>NaN</td>\n",
       "      <td>2</td>\n",
       "      <td>0</td>\n",
       "    </tr>\n",
       "    <tr>\n",
       "      <th>...</th>\n",
       "      <td>...</td>\n",
       "      <td>...</td>\n",
       "      <td>...</td>\n",
       "      <td>...</td>\n",
       "      <td>...</td>\n",
       "      <td>...</td>\n",
       "      <td>...</td>\n",
       "      <td>...</td>\n",
       "      <td>...</td>\n",
       "      <td>...</td>\n",
       "      <td>...</td>\n",
       "      <td>...</td>\n",
       "      <td>...</td>\n",
       "      <td>...</td>\n",
       "      <td>...</td>\n",
       "      <td>...</td>\n",
       "      <td>...</td>\n",
       "      <td>...</td>\n",
       "    </tr>\n",
       "    <tr>\n",
       "      <th>218245</th>\n",
       "      <td>21434712</td>\n",
       "      <td>enhanced</td>\n",
       "      <td>3.0</td>\n",
       "      <td>comedy</td>\n",
       "      <td>supplement OTT</td>\n",
       "      <td>28.751405</td>\n",
       "      <td>2.0</td>\n",
       "      <td>38.0</td>\n",
       "      <td>False</td>\n",
       "      <td>facebook</td>\n",
       "      <td>facebook_organic</td>\n",
       "      <td>iOS</td>\n",
       "      <td>201911</td>\n",
       "      <td>False</td>\n",
       "      <td>0.3303</td>\n",
       "      <td>NaN</td>\n",
       "      <td>1</td>\n",
       "      <td>0</td>\n",
       "    </tr>\n",
       "    <tr>\n",
       "      <th>218246</th>\n",
       "      <td>25843074</td>\n",
       "      <td>enhanced</td>\n",
       "      <td>2.0</td>\n",
       "      <td>comedy</td>\n",
       "      <td>replace OTT</td>\n",
       "      <td>27.301448</td>\n",
       "      <td>2.0</td>\n",
       "      <td>49.0</td>\n",
       "      <td>False</td>\n",
       "      <td>google_organic</td>\n",
       "      <td>referral</td>\n",
       "      <td>iOS</td>\n",
       "      <td>201912</td>\n",
       "      <td>False</td>\n",
       "      <td>0.3303</td>\n",
       "      <td>Paypal</td>\n",
       "      <td>1</td>\n",
       "      <td>0</td>\n",
       "    </tr>\n",
       "    <tr>\n",
       "      <th>218247</th>\n",
       "      <td>24799085</td>\n",
       "      <td>base</td>\n",
       "      <td>NaN</td>\n",
       "      <td>comedy</td>\n",
       "      <td>access to exclusive content</td>\n",
       "      <td>31.651317</td>\n",
       "      <td>NaN</td>\n",
       "      <td>45.0</td>\n",
       "      <td>False</td>\n",
       "      <td>facebook</td>\n",
       "      <td>facebook</td>\n",
       "      <td>iOS</td>\n",
       "      <td>201912</td>\n",
       "      <td>True</td>\n",
       "      <td>0.0367</td>\n",
       "      <td>NaN</td>\n",
       "      <td>1</td>\n",
       "      <td>0</td>\n",
       "    </tr>\n",
       "    <tr>\n",
       "      <th>218248</th>\n",
       "      <td>21308040</td>\n",
       "      <td>base</td>\n",
       "      <td>NaN</td>\n",
       "      <td>comedy</td>\n",
       "      <td>access to exclusive content</td>\n",
       "      <td>NaN</td>\n",
       "      <td>NaN</td>\n",
       "      <td>NaN</td>\n",
       "      <td>False</td>\n",
       "      <td>facebook</td>\n",
       "      <td>facebook</td>\n",
       "      <td>iOS</td>\n",
       "      <td>202001</td>\n",
       "      <td>False</td>\n",
       "      <td>NaN</td>\n",
       "      <td>Paypal</td>\n",
       "      <td>1</td>\n",
       "      <td>0</td>\n",
       "    </tr>\n",
       "    <tr>\n",
       "      <th>218249</th>\n",
       "      <td>20166335</td>\n",
       "      <td>base</td>\n",
       "      <td>NaN</td>\n",
       "      <td>comedy</td>\n",
       "      <td>replace OTT</td>\n",
       "      <td>25.851492</td>\n",
       "      <td>NaN</td>\n",
       "      <td>55.0</td>\n",
       "      <td>False</td>\n",
       "      <td>organic</td>\n",
       "      <td>tv</td>\n",
       "      <td>iOS</td>\n",
       "      <td>201911</td>\n",
       "      <td>False</td>\n",
       "      <td>0.0367</td>\n",
       "      <td>NaN</td>\n",
       "      <td>0</td>\n",
       "      <td>1</td>\n",
       "    </tr>\n",
       "  </tbody>\n",
       "</table>\n",
       "<p>218250 rows × 18 columns</p>\n",
       "</div>"
      ],
      "text/plain": [
       "           subid package_type  num_weekly_services_utilized preferred_genre  \\\n",
       "0       21724479      economy                           NaN          comedy   \n",
       "1       23383224         base                           NaN          comedy   \n",
       "2       26844789     enhanced                           3.0        regional   \n",
       "3       29417030         base                           NaN           drama   \n",
       "4       26723159         base                           4.0          comedy   \n",
       "...          ...          ...                           ...             ...   \n",
       "218245  21434712     enhanced                           3.0          comedy   \n",
       "218246  25843074     enhanced                           2.0          comedy   \n",
       "218247  24799085         base                           NaN          comedy   \n",
       "218248  21308040         base                           NaN          comedy   \n",
       "218249  20166335         base                           NaN          comedy   \n",
       "\n",
       "                       intended_use  weekly_consumption_hour  \\\n",
       "0       access to exclusive content                      NaN   \n",
       "1       access to exclusive content                22.951579   \n",
       "2                       replace OTT                36.001186   \n",
       "3                       replace OTT                20.051667   \n",
       "4                       replace OTT                22.951579   \n",
       "...                             ...                      ...   \n",
       "218245               supplement OTT                28.751405   \n",
       "218246                  replace OTT                27.301448   \n",
       "218247  access to exclusive content                31.651317   \n",
       "218248  access to exclusive content                      NaN   \n",
       "218249                  replace OTT                25.851492   \n",
       "\n",
       "        num_ideal_streaming_services   age male_TF attribution_technical  \\\n",
       "0                                NaN   NaN   False              facebook   \n",
       "1                                NaN  70.0   False              facebook   \n",
       "2                                2.0  25.0    True               organic   \n",
       "3                                NaN  30.0   False                search   \n",
       "4                                3.0  28.0   False             discovery   \n",
       "...                              ...   ...     ...                   ...   \n",
       "218245                           2.0  38.0   False              facebook   \n",
       "218246                           2.0  49.0   False        google_organic   \n",
       "218247                           NaN  45.0   False              facebook   \n",
       "218248                           NaN   NaN   False              facebook   \n",
       "218249                           NaN  55.0   False               organic   \n",
       "\n",
       "       attribution_survey   op_sys  account_creation_date  \\\n",
       "0                facebook  Android                 202001   \n",
       "1                facebook      NaN                 202003   \n",
       "2                facebook      iOS                 201912   \n",
       "3                      tv  Android                 202001   \n",
       "4                 youtube      iOS                 201910   \n",
       "...                   ...      ...                    ...   \n",
       "218245   facebook_organic      iOS                 201911   \n",
       "218246           referral      iOS                 201912   \n",
       "218247           facebook      iOS                 201912   \n",
       "218248           facebook      iOS                 202001   \n",
       "218249                 tv      iOS                 201911   \n",
       "\n",
       "        initial_credit_card_declined  join_fee      payment_type  \\\n",
       "0                              False       NaN  Standard Charter   \n",
       "1                              False    0.3303               NaN   \n",
       "2                              False    0.1101               NaN   \n",
       "3                              False    0.0367               NaN   \n",
       "4                              False    0.0367               NaN   \n",
       "...                              ...       ...               ...   \n",
       "218245                         False    0.3303               NaN   \n",
       "218246                         False    0.3303            Paypal   \n",
       "218247                          True    0.0367               NaN   \n",
       "218248                         False       NaN            Paypal   \n",
       "218249                         False    0.0367               NaN   \n",
       "\n",
       "        payment_period  churn_TF  \n",
       "0                    1         0  \n",
       "1                    1         0  \n",
       "2                    0         1  \n",
       "3                    0         1  \n",
       "4                    2         0  \n",
       "...                ...       ...  \n",
       "218245               1         0  \n",
       "218246               1         0  \n",
       "218247               1         0  \n",
       "218248               1         0  \n",
       "218249               0         1  \n",
       "\n",
       "[218250 rows x 18 columns]"
      ]
     },
     "execution_count": 162,
     "metadata": {},
     "output_type": "execute_result"
    }
   ],
   "source": [
    "df"
   ]
  },
  {
   "cell_type": "markdown",
   "metadata": {},
   "source": [
    "## dealing with missing value"
   ]
  },
  {
   "cell_type": "markdown",
   "metadata": {},
   "source": [
    "#### # num_weekly_services_utilized"
   ]
  },
  {
   "cell_type": "code",
   "execution_count": 163,
   "metadata": {},
   "outputs": [],
   "source": [
    "na_number = sum(df['num_weekly_services_utilized'].isna())"
   ]
  },
  {
   "cell_type": "code",
   "execution_count": 164,
   "metadata": {},
   "outputs": [
    {
     "data": {
      "text/plain": [
       "105987"
      ]
     },
     "execution_count": 164,
     "metadata": {},
     "output_type": "execute_result"
    }
   ],
   "source": [
    "na_number"
   ]
  },
  {
   "cell_type": "code",
   "execution_count": 165,
   "metadata": {},
   "outputs": [
    {
     "name": "stdout",
     "output_type": "stream",
     "text": [
      "105987\n"
     ]
    }
   ],
   "source": [
    "import random\n",
    "import numpy as np\n",
    "\n",
    "data = {3: int(0.5*na_number), 2: int(0.3*na_number), 4:int(0.2*na_number)}\n",
    "value_list = []\n",
    "for key, value in data.items():\n",
    "    value_list += value*[key]\n",
    "value_list.append(3)\n",
    "print(len(value_list))\n",
    "\n",
    "\n",
    "pick_value = random.choice(value_list)"
   ]
  },
  {
   "cell_type": "code",
   "execution_count": 166,
   "metadata": {},
   "outputs": [],
   "source": [
    "df['num_weekly_services_utilized'] = df['num_weekly_services_utilized'].fillna(pd.Series(np.random.choice(pick_value, size=len(df.index))))"
   ]
  },
  {
   "cell_type": "markdown",
   "metadata": {},
   "source": [
    "#### # weekly_consumption_hour"
   ]
  },
  {
   "cell_type": "code",
   "execution_count": 167,
   "metadata": {},
   "outputs": [
    {
     "data": {
      "text/plain": [
       "36039"
      ]
     },
     "execution_count": 167,
     "metadata": {},
     "output_type": "execute_result"
    }
   ],
   "source": [
    "na_number = sum(df['weekly_consumption_hour'].isna())\n",
    "na_number"
   ]
  },
  {
   "cell_type": "code",
   "execution_count": 168,
   "metadata": {},
   "outputs": [
    {
     "name": "stdout",
     "output_type": "stream",
     "text": [
      "36039\n"
     ]
    }
   ],
   "source": [
    "data = {21: int(0.09*na_number), 22: int(0.09*na_number), 24:int(0.1*na_number), 25:int(0.15*na_number),\\\n",
    "       27:int(0.15*na_number),28:int(0.15*na_number),30:int(0.09*na_number),31:int(0.09*na_number),\\\n",
    "       33:int(0.09*na_number)}\n",
    "\n",
    "value_list = []\n",
    "for key, value in data.items():\n",
    "    value_list += value*[key]\n",
    "value_list += [24]*6\n",
    "print(len(value_list))\n",
    "\n",
    "pick_value = random.choice(value_list)"
   ]
  },
  {
   "cell_type": "code",
   "execution_count": 169,
   "metadata": {},
   "outputs": [],
   "source": [
    "df['weekly_consumption_hour'] = df['weekly_consumption_hour'].fillna(pd.Series(np.random.choice(pick_value, size=len(df.index))))"
   ]
  },
  {
   "cell_type": "code",
   "execution_count": 170,
   "metadata": {},
   "outputs": [
    {
     "data": {
      "text/plain": [
       "0"
      ]
     },
     "execution_count": 170,
     "metadata": {},
     "output_type": "execute_result"
    }
   ],
   "source": [
    "sum(df['weekly_consumption_hour'].isna())"
   ]
  },
  {
   "cell_type": "markdown",
   "metadata": {},
   "source": [
    "#### # age"
   ]
  },
  {
   "cell_type": "code",
   "execution_count": 171,
   "metadata": {},
   "outputs": [],
   "source": [
    "df['age'] = df['age'].apply(lambda x: np.nan if x == 0 or x > 100 else x)"
   ]
  },
  {
   "cell_type": "code",
   "execution_count": 172,
   "metadata": {},
   "outputs": [],
   "source": [
    "df['age'] = df['age'].fillna(method='bfill')"
   ]
  },
  {
   "cell_type": "code",
   "execution_count": 173,
   "metadata": {},
   "outputs": [],
   "source": [
    "df['age'].to_csv('test.csv')"
   ]
  },
  {
   "cell_type": "code",
   "execution_count": null,
   "metadata": {},
   "outputs": [],
   "source": []
  },
  {
   "cell_type": "markdown",
   "metadata": {},
   "source": [
    "### dummy\n",
    "\n",
    "num_ideal_streaming_services"
   ]
  },
  {
   "cell_type": "code",
   "execution_count": 174,
   "metadata": {},
   "outputs": [],
   "source": [
    "df['num_ideal_streaming_services'] = df['num_ideal_streaming_services'].fillna('NA')"
   ]
  },
  {
   "cell_type": "code",
   "execution_count": 175,
   "metadata": {},
   "outputs": [],
   "source": [
    "df_temp = pd.get_dummies(df['num_ideal_streaming_services'], prefix='n_ideal_ss',drop_first=True)\n",
    "df = pd.concat([df, df_temp], axis=1)\n",
    "df = df.drop('num_ideal_streaming_services',axis = 1)"
   ]
  },
  {
   "cell_type": "markdown",
   "metadata": {},
   "source": [
    "### package_type"
   ]
  },
  {
   "cell_type": "code",
   "execution_count": 176,
   "metadata": {},
   "outputs": [],
   "source": [
    "df['package_type'] = df['package_type'].fillna('NA')"
   ]
  },
  {
   "cell_type": "code",
   "execution_count": 177,
   "metadata": {},
   "outputs": [],
   "source": [
    "df_temp = pd.get_dummies(df['package_type'], prefix='package_type',drop_first=True)\n",
    "df = pd.concat([df, df_temp], axis=1)\n",
    "df = df.drop('package_type',axis = 1)"
   ]
  },
  {
   "cell_type": "markdown",
   "metadata": {},
   "source": [
    "### preferred_genre"
   ]
  },
  {
   "cell_type": "code",
   "execution_count": 178,
   "metadata": {},
   "outputs": [],
   "source": [
    "df['preferred_genre'] = df['preferred_genre'].fillna('NA')"
   ]
  },
  {
   "cell_type": "code",
   "execution_count": 179,
   "metadata": {},
   "outputs": [],
   "source": [
    "df_temp = pd.get_dummies(df['preferred_genre'], prefix='preferred_genre',drop_first=True)\n",
    "df = pd.concat([df, df_temp], axis=1)\n",
    "df = df.drop('preferred_genre',axis = 1)"
   ]
  },
  {
   "cell_type": "markdown",
   "metadata": {},
   "source": [
    "### intended_use"
   ]
  },
  {
   "cell_type": "code",
   "execution_count": 180,
   "metadata": {},
   "outputs": [],
   "source": [
    "df['intended_use'] = df['intended_use'].fillna('NA')"
   ]
  },
  {
   "cell_type": "code",
   "execution_count": 181,
   "metadata": {},
   "outputs": [],
   "source": [
    "df_temp = pd.get_dummies(df['intended_use'], prefix='intended_use',drop_first=True)\n",
    "df = pd.concat([df, df_temp], axis=1)\n",
    "df = df.drop('intended_use',axis = 1)"
   ]
  },
  {
   "cell_type": "markdown",
   "metadata": {},
   "source": [
    "### male_TF"
   ]
  },
  {
   "cell_type": "code",
   "execution_count": 182,
   "metadata": {},
   "outputs": [],
   "source": [
    "df['male_TF'] = df['male_TF'].fillna('NA')"
   ]
  },
  {
   "cell_type": "code",
   "execution_count": 183,
   "metadata": {},
   "outputs": [],
   "source": [
    "df_temp = pd.get_dummies(df['male_TF'], prefix= 'male_TF',drop_first=True)\n",
    "df = pd.concat([df, df_temp], axis=1)\n",
    "df = df.drop('male_TF',axis = 1)"
   ]
  },
  {
   "cell_type": "markdown",
   "metadata": {},
   "source": [
    "### attribution_technical"
   ]
  },
  {
   "cell_type": "code",
   "execution_count": 184,
   "metadata": {},
   "outputs": [],
   "source": [
    "df['attribution_technical'] = df['attribution_technical'].fillna('NA')"
   ]
  },
  {
   "cell_type": "code",
   "execution_count": 185,
   "metadata": {},
   "outputs": [],
   "source": [
    "df_temp = pd.get_dummies(df['attribution_technical'], prefix='attribution_technical',drop_first=True)\n",
    "df = pd.concat([df, df_temp], axis=1)\n",
    "df = df.drop('attribution_technical',axis = 1)"
   ]
  },
  {
   "cell_type": "markdown",
   "metadata": {},
   "source": [
    "### attribution_survey"
   ]
  },
  {
   "cell_type": "code",
   "execution_count": 186,
   "metadata": {},
   "outputs": [],
   "source": [
    "df['attribution_survey'] = df['attribution_survey'].fillna('NA')"
   ]
  },
  {
   "cell_type": "code",
   "execution_count": 187,
   "metadata": {},
   "outputs": [],
   "source": [
    "df_temp = pd.get_dummies(df['attribution_survey'], prefix='attribution_survey',drop_first=True)\n",
    "df = pd.concat([df, df_temp], axis=1)\n",
    "df = df.drop('attribution_survey',axis = 1)"
   ]
  },
  {
   "cell_type": "markdown",
   "metadata": {},
   "source": [
    "### op_sys"
   ]
  },
  {
   "cell_type": "code",
   "execution_count": 188,
   "metadata": {},
   "outputs": [],
   "source": [
    "df['op_sys'] = df['op_sys'].fillna('NA')"
   ]
  },
  {
   "cell_type": "code",
   "execution_count": 189,
   "metadata": {},
   "outputs": [],
   "source": [
    "df_temp = pd.get_dummies(df['op_sys'], prefix='op_sys',drop_first=True)\n",
    "df = pd.concat([df, df_temp], axis=1)\n",
    "df = df.drop('op_sys',axis = 1)"
   ]
  },
  {
   "cell_type": "markdown",
   "metadata": {},
   "source": [
    "### account_creation_date"
   ]
  },
  {
   "cell_type": "code",
   "execution_count": 190,
   "metadata": {},
   "outputs": [],
   "source": [
    "df['account_creation_date'] = df['account_creation_date'].fillna('NA')"
   ]
  },
  {
   "cell_type": "code",
   "execution_count": 191,
   "metadata": {},
   "outputs": [],
   "source": [
    "df_temp = pd.get_dummies(df['account_creation_date'], prefix='account_creation_date',drop_first=True)\n",
    "df = pd.concat([df, df_temp], axis=1)\n",
    "df = df.drop('account_creation_date',axis = 1)"
   ]
  },
  {
   "cell_type": "markdown",
   "metadata": {},
   "source": [
    "### initial_credit_card_declined"
   ]
  },
  {
   "cell_type": "code",
   "execution_count": 192,
   "metadata": {},
   "outputs": [],
   "source": [
    "df['initial_credit_card_declined'] = df['initial_credit_card_declined'].fillna('NA')"
   ]
  },
  {
   "cell_type": "code",
   "execution_count": 193,
   "metadata": {},
   "outputs": [],
   "source": [
    "df_temp = pd.get_dummies(df['initial_credit_card_declined'], prefix= 'initial_credit_card_declined',drop_first=True)\n",
    "df = pd.concat([df, df_temp], axis=1)\n",
    "df = df.drop('initial_credit_card_declined',axis = 1)"
   ]
  },
  {
   "cell_type": "markdown",
   "metadata": {},
   "source": [
    "### join_fee"
   ]
  },
  {
   "cell_type": "code",
   "execution_count": 194,
   "metadata": {},
   "outputs": [],
   "source": [
    "df['join_fee'] = df['join_fee'].fillna('NA')"
   ]
  },
  {
   "cell_type": "code",
   "execution_count": 195,
   "metadata": {},
   "outputs": [],
   "source": [
    "df_temp = pd.get_dummies(df['join_fee'], prefix= 'join_fee',drop_first=True)\n",
    "df = pd.concat([df, df_temp], axis=1)\n",
    "df = df.drop('join_fee',axis = 1)"
   ]
  },
  {
   "cell_type": "markdown",
   "metadata": {},
   "source": [
    "### payment_type"
   ]
  },
  {
   "cell_type": "code",
   "execution_count": 196,
   "metadata": {},
   "outputs": [],
   "source": [
    "df['payment_type'] = df['payment_type'].fillna('NA')"
   ]
  },
  {
   "cell_type": "code",
   "execution_count": 197,
   "metadata": {},
   "outputs": [],
   "source": [
    "df_temp = pd.get_dummies(df['payment_type'], prefix= 'payment_type',drop_first=True)\n",
    "df = pd.concat([df, df_temp], axis=1)\n",
    "df = df.drop('payment_type',axis = 1)"
   ]
  },
  {
   "cell_type": "markdown",
   "metadata": {},
   "source": [
    "### payment_period"
   ]
  },
  {
   "cell_type": "code",
   "execution_count": 198,
   "metadata": {},
   "outputs": [],
   "source": [
    "df['payment_period'] = df['payment_period'].fillna('NA')"
   ]
  },
  {
   "cell_type": "code",
   "execution_count": 199,
   "metadata": {},
   "outputs": [],
   "source": [
    "df_temp = pd.get_dummies(df['payment_period'], prefix='payment_period',drop_first=True)\n",
    "df = pd.concat([df, df_temp], axis=1)\n",
    "df = df.drop('payment_period',axis = 1)"
   ]
  },
  {
   "cell_type": "code",
   "execution_count": 206,
   "metadata": {},
   "outputs": [
    {
     "data": {
      "text/plain": [
       "Index(['attribution_technical_vod', 'attribution_technical_youtube',\n",
       "       'attribution_survey_affiliate', 'attribution_survey_amfm_radio',\n",
       "       'attribution_survey_direct_mail', 'attribution_survey_facebook',\n",
       "       'attribution_survey_facebook_organic', 'attribution_survey_other',\n",
       "       'attribution_survey_ott', 'attribution_survey_pinterest',\n",
       "       'attribution_survey_podcast', 'attribution_survey_public_radio',\n",
       "       'attribution_survey_referral', 'attribution_survey_search',\n",
       "       'attribution_survey_sirius xm', 'attribution_survey_social_organic',\n",
       "       'attribution_survey_tv', 'attribution_survey_youtube', 'op_sys_NA',\n",
       "       'op_sys_iOS', 'account_creation_date_201907',\n",
       "       'account_creation_date_201908', 'account_creation_date_201909',\n",
       "       'account_creation_date_201910', 'account_creation_date_201911',\n",
       "       'account_creation_date_201912', 'account_creation_date_202001',\n",
       "       'account_creation_date_202002', 'account_creation_date_202003',\n",
       "       'initial_credit_card_declined_True', 'join_fee_-0.3303',\n",
       "       'join_fee_-0.1101', 'join_fee_-0.0367', 'join_fee_0.0',\n",
       "       'join_fee_0.0367', 'join_fee_0.0734', 'join_fee_0.1101',\n",
       "       'join_fee_0.1468', 'join_fee_0.1835', 'join_fee_0.2569',\n",
       "       'join_fee_0.2936', 'join_fee_0.3303', 'join_fee_0.36700000000000005',\n",
       "       'join_fee_0.4037', 'join_fee_0.5872', 'join_fee_0.6239',\n",
       "       'join_fee_0.6606', 'join_fee_0.6973', 'join_fee_0.7340000000000001',\n",
       "       'join_fee_NA', 'payment_type_NA', 'payment_type_Najim',\n",
       "       'payment_type_Paypal', 'payment_type_RAKBANK',\n",
       "       'payment_type_Standard Charter', 'payment_period_1',\n",
       "       'payment_period_2'],\n",
       "      dtype='object')"
      ]
     },
     "execution_count": 206,
     "metadata": {},
     "output_type": "execute_result"
    }
   ],
   "source": [
    "df.columns[44:-1]"
   ]
  },
  {
   "cell_type": "code",
   "execution_count": null,
   "metadata": {},
   "outputs": [],
   "source": []
  },
  {
   "cell_type": "markdown",
   "metadata": {},
   "source": [
    "## model building"
   ]
  },
  {
   "cell_type": "code",
   "execution_count": 1,
   "metadata": {},
   "outputs": [],
   "source": [
    "import numpy as np\n",
    "from sklearn import preprocessing\n",
    "from sklearn.linear_model import LogisticRegression\n",
    "from sklearn.model_selection import train_test_split"
   ]
  },
  {
   "cell_type": "code",
   "execution_count": 208,
   "metadata": {},
   "outputs": [
    {
     "name": "stdout",
     "output_type": "stream",
     "text": [
      "Warning: Maximum number of iterations has been exceeded.\n",
      "         Current function value: 0.122258\n",
      "         Iterations: 35\n"
     ]
    },
    {
     "name": "stderr",
     "output_type": "stream",
     "text": [
      "/Users/estelle/opt/anaconda3/lib/python3.8/site-packages/statsmodels/base/model.py:567: ConvergenceWarning: Maximum Likelihood optimization failed to converge. Check mle_retvals\n",
      "  warn(\"Maximum Likelihood optimization failed to converge. \"\n"
     ]
    },
    {
     "name": "stdout",
     "output_type": "stream",
     "text": [
      "                                           Results: Logit\n",
      "=====================================================================================================\n",
      "Model:                           Logit                       Pseudo R-squared:            0.822      \n",
      "Dependent Variable:              churn_TF                    AIC:                         53479.4180 \n",
      "Date:                            2020-12-13 23:37            BIC:                         54066.1416 \n",
      "No. Observations:                218250                      Log-Likelihood:              -26683.    \n",
      "Df Model:                        56                          LL-Null:                     -1.4995e+05\n",
      "Df Residuals:                    218193                      LLR p-value:                 0.0000     \n",
      "Converged:                       0.0000                      Scale:                       1.0000     \n",
      "No. Iterations:                  35.0000                                                             \n",
      "-----------------------------------------------------------------------------------------------------\n",
      "                                     Coef.     Std.Err.       z     P>|z|      [0.025       0.975]   \n",
      "-----------------------------------------------------------------------------------------------------\n",
      "attribution_technical_vod            -0.2931       0.3057   -0.9586 0.3377       -0.8923       0.3061\n",
      "attribution_technical_youtube         0.0388       0.2089    0.1858 0.8526       -0.3707       0.4483\n",
      "attribution_survey_affiliate         -0.7634       0.1783   -4.2826 0.0000       -1.1128      -0.4140\n",
      "attribution_survey_amfm_radio        -0.5708       0.3235   -1.7642 0.0777       -1.2048       0.0633\n",
      "attribution_survey_direct_mail        0.1759       0.2806    0.6269 0.5307       -0.3740       0.7258\n",
      "attribution_survey_facebook          -0.0836       0.1175   -0.7116 0.4767       -0.3139       0.1467\n",
      "attribution_survey_facebook_organic  -0.8315       0.2308   -3.6020 0.0003       -1.2839      -0.3791\n",
      "attribution_survey_other             -0.5575       0.1374   -4.0558 0.0000       -0.8269      -0.2881\n",
      "attribution_survey_ott               -0.9411       0.2063   -4.5628 0.0000       -1.3453      -0.5368\n",
      "attribution_survey_pinterest         -0.8465       0.1348   -6.2803 0.0000       -1.1106      -0.5823\n",
      "attribution_survey_podcast           -0.7524       0.1623   -4.6348 0.0000       -1.0706      -0.4342\n",
      "attribution_survey_public_radio      -0.4416       0.1380   -3.1995 0.0014       -0.7121      -0.1711\n",
      "attribution_survey_referral          -3.5952       0.1317  -27.2887 0.0000       -3.8534      -3.3370\n",
      "attribution_survey_search            -0.7374       0.1328   -5.5511 0.0000       -0.9978      -0.4770\n",
      "attribution_survey_sirius xm         -0.6226       0.2140   -2.9088 0.0036       -1.0420      -0.2031\n",
      "attribution_survey_social_organic    -0.8729       0.1522   -5.7332 0.0000       -1.1712      -0.5745\n",
      "attribution_survey_tv                 0.1130       0.1195    0.9458 0.3442       -0.1212       0.3472\n",
      "attribution_survey_youtube           -0.8793       0.1669   -5.2688 0.0000       -1.2064      -0.5522\n",
      "op_sys_NA                             0.3437       0.0573    6.0034 0.0000        0.2315       0.4559\n",
      "op_sys_iOS                            0.1138       0.0276    4.1217 0.0000        0.0597       0.1679\n",
      "account_creation_date_201907          0.9782       0.1309    7.4725 0.0000        0.7216       1.2348\n",
      "account_creation_date_201908          3.7753       0.1393   27.0997 0.0000        3.5023       4.0484\n",
      "account_creation_date_201909          3.6461       0.1410   25.8512 0.0000        3.3697       3.9225\n",
      "account_creation_date_201910          3.5307       0.1401   25.2091 0.0000        3.2562       3.8052\n",
      "account_creation_date_201911         -1.3538       0.1296  -10.4424 0.0000       -1.6079      -1.0997\n",
      "account_creation_date_201912         -2.1920       0.1305  -16.8032 0.0000       -2.4477      -1.9364\n",
      "account_creation_date_202001         -2.1709       0.1309  -16.5846 0.0000       -2.4274      -1.9143\n",
      "account_creation_date_202002         -2.1385       0.1308  -16.3482 0.0000       -2.3948      -1.8821\n",
      "account_creation_date_202003         -2.1483       0.1334  -16.1092 0.0000       -2.4097      -1.8869\n",
      "initial_credit_card_declined_True    -0.0613       0.0598   -1.0250 0.3054       -0.1784       0.0559\n",
      "join_fee_-0.3303                     31.4849 2275203.5724    0.0000 1.0000 -4459285.5745 4459348.5443\n",
      "join_fee_-0.1101                     31.9956 2463643.9022    0.0000 1.0000 -4828621.3234 4828685.3146\n",
      "join_fee_-0.0367                      5.3199       2.0241    2.6282 0.0086        1.3527       9.2871\n",
      "join_fee_0.0                          5.1921       0.1939   26.7767 0.0000        4.8121       5.5722\n",
      "join_fee_0.0367                       5.2946       0.1923   27.5334 0.0000        4.9177       5.6715\n",
      "join_fee_0.0734                       5.3337       3.9515    1.3498 0.1771       -2.4112      13.0786\n",
      "join_fee_0.1101                       5.0684       0.2003   25.3056 0.0000        4.6759       5.4610\n",
      "join_fee_0.1468                      -3.2241    1476.7218   -0.0022 0.9983    -2897.5457    2891.0975\n",
      "join_fee_0.1835                       5.2685       0.4726   11.1475 0.0000        4.3422       6.1949\n",
      "join_fee_0.2569                     -17.7485  470790.1091   -0.0000 1.0000  -922749.4066  922713.9095\n",
      "join_fee_0.2936                      24.3895   64151.5455    0.0004 0.9997  -125710.3293  125759.1083\n",
      "join_fee_0.3303                       5.2089       0.1968   26.4653 0.0000        4.8231       5.5946\n",
      "join_fee_0.36700000000000005          5.3027       0.2315   22.9026 0.0000        4.8489       5.7565\n",
      "join_fee_0.4037                     -17.5823  495373.3733   -0.0000 1.0000  -970931.5528  970896.3883\n",
      "join_fee_0.5872                     -17.4968  489353.1244   -0.0000 1.0000  -959131.9963  959097.0027\n",
      "join_fee_0.6239                       5.0057       2.2942    2.1819 0.0291        0.5091       9.5023\n",
      "join_fee_0.6606                       5.2743       0.1981   26.6252 0.0000        4.8860       5.6625\n",
      "join_fee_0.6973                       4.6133       2.7170    1.6979 0.0895       -0.7120       9.9385\n",
      "join_fee_0.7340000000000001         -12.7557  209227.8942   -0.0001 1.0000  -410091.8930  410066.3815\n",
      "join_fee_NA                           4.8058       0.1990   24.1506 0.0000        4.4158       5.1958\n",
      "payment_type_NA                      -0.1309       0.0895   -1.4626 0.1436       -0.3064       0.0445\n",
      "payment_type_Najim                    0.0324       0.1492    0.2175 0.8278       -0.2599       0.3248\n",
      "payment_type_Paypal                   0.0200       0.0945    0.2118 0.8322       -0.1652       0.2052\n",
      "payment_type_RAKBANK                  0.0238       0.1004    0.2373 0.8124       -0.1730       0.2206\n",
      "payment_type_Standard Charter        -0.0410       0.0935   -0.4385 0.6610       -0.2242       0.1422\n",
      "payment_period_1                     -6.1267       0.0303 -202.4823 0.0000       -6.1860      -6.0674\n",
      "payment_period_2                    -12.4694       0.0679 -183.7190 0.0000      -12.6024     -12.3363\n",
      "=====================================================================================================\n",
      "\n"
     ]
    }
   ],
   "source": [
    "import statsmodels.api as sm\n",
    "\n",
    "test_columns = df.columns[44:-1]\n",
    "\n",
    "y = df['churn_TF']\n",
    "X = df[test_columns]\n",
    "\n",
    "logit_model=sm.Logit(y,X)\n",
    "result=logit_model.fit()\n",
    "print(result.summary2())"
   ]
  },
  {
   "cell_type": "code",
   "execution_count": 209,
   "metadata": {},
   "outputs": [
    {
     "name": "stdout",
     "output_type": "stream",
     "text": [
      "Warning: Maximum number of iterations has been exceeded.\n",
      "         Current function value: 0.412648\n",
      "         Iterations: 35\n"
     ]
    },
    {
     "name": "stderr",
     "output_type": "stream",
     "text": [
      "/Users/estelle/opt/anaconda3/lib/python3.8/site-packages/statsmodels/base/model.py:567: ConvergenceWarning: Maximum Likelihood optimization failed to converge. Check mle_retvals\n",
      "  warn(\"Maximum Likelihood optimization failed to converge. \"\n"
     ]
    },
    {
     "name": "stdout",
     "output_type": "stream",
     "text": [
      "                                           Results: Logit\n",
      "=====================================================================================================\n",
      "Model:                           Logit                       Pseudo R-squared:            0.399      \n",
      "Dependent Variable:              churn_TF                    AIC:                         180206.7557\n",
      "Date:                            2020-12-13 23:41            BIC:                         180649.3718\n",
      "No. Observations:                218250                      Log-Likelihood:              -90060.    \n",
      "Df Model:                        42                          LL-Null:                     -1.4995e+05\n",
      "Df Residuals:                    218207                      LLR p-value:                 0.0000     \n",
      "Converged:                       0.0000                      Scale:                       1.0000     \n",
      "No. Iterations:                  35.0000                                                             \n",
      "-----------------------------------------------------------------------------------------------------\n",
      "                                               Coef.    Std.Err.    z     P>|z|    [0.025     0.975] \n",
      "-----------------------------------------------------------------------------------------------------\n",
      "subid                                           0.0000    0.0000   0.9211 0.3570    -0.0000    0.0000\n",
      "num_weekly_services_utilized                   -0.4481    0.0065 -68.5022 0.0000    -0.4609   -0.4353\n",
      "weekly_consumption_hour                        -0.0331    0.0009 -36.8955 0.0000    -0.0348   -0.0313\n",
      "age                                             0.0441    0.0005  95.1800 0.0000     0.0432    0.0450\n",
      "n_ideal_ss_2.0                                  1.0573    0.0816  12.9513 0.0000     0.8973    1.2173\n",
      "n_ideal_ss_3.0                                 -0.8461    0.0934  -9.0561 0.0000    -1.0292   -0.6630\n",
      "n_ideal_ss_4.0                                -18.6770 4171.1670  -0.0045 0.9964 -8194.0140 8156.6600\n",
      "n_ideal_ss_NA                                   0.2676    0.0788   3.3955 0.0007     0.1131    0.4221\n",
      "package_type_base                              -0.6815    0.0883  -7.7196 0.0000    -0.8545   -0.5085\n",
      "package_type_economy                            0.7532    0.0906   8.3113 0.0000     0.5756    0.9308\n",
      "package_type_enhanced                          -1.3743    0.0887 -15.4858 0.0000    -1.5483   -1.2004\n",
      "preferred_genre_comedy                         -2.2006    0.1035 -21.2597 0.0000    -2.4035   -1.9978\n",
      "preferred_genre_drama                          -0.4505    0.1039  -4.3371 0.0000    -0.6542   -0.2469\n",
      "preferred_genre_international                  -0.4964    0.1081  -4.5941 0.0000    -0.7082   -0.2846\n",
      "preferred_genre_other                           0.7989    0.1123   7.1122 0.0000     0.5788    1.0191\n",
      "preferred_genre_regional                       -0.4500    0.1067  -4.2153 0.0000    -0.6592   -0.2407\n",
      "intended_use_access to exclusive content       -0.7967    0.0775 -10.2856 0.0000    -0.9485   -0.6449\n",
      "intended_use_education                          1.1491    0.0672  17.0912 0.0000     1.0173    1.2808\n",
      "intended_use_expand international access        1.1180    0.0569  19.6416 0.0000     1.0064    1.2295\n",
      "intended_use_expand regional access             1.0248    0.0563  18.1935 0.0000     0.9144    1.1352\n",
      "intended_use_other                              0.8708    0.0769  11.3184 0.0000     0.7200    1.0216\n",
      "intended_use_replace OTT                        2.1425    0.0775  27.6437 0.0000     1.9906    2.2944\n",
      "intended_use_supplement OTT                    -0.6598    0.0790  -8.3509 0.0000    -0.8147   -0.5050\n",
      "male_TF_True                                    0.7479    0.0203  36.9045 0.0000     0.7082    0.7876\n",
      "male_TF_NA                                     -1.2437    0.2040  -6.0973 0.0000    -1.6435   -0.8439\n",
      "attribution_technical_bing                      0.2716    0.0848   3.2021 0.0014     0.1054    0.4379\n",
      "attribution_technical_bing_organic              0.5359    0.1636   3.2758 0.0011     0.2152    0.8565\n",
      "attribution_technical_brand sem intent bing     0.4115    0.0642   6.4079 0.0000     0.2857    0.5374\n",
      "attribution_technical_brand sem intent google   0.2340    0.0341   6.8586 0.0000     0.1671    0.3009\n",
      "attribution_technical_discovery                 0.2330    0.0589   3.9551 0.0001     0.1176    0.3485\n",
      "attribution_technical_display                   0.1968    0.0775   2.5387 0.0111     0.0449    0.3488\n",
      "attribution_technical_email                     0.2567    0.0325   7.8903 0.0000     0.1929    0.3205\n",
      "attribution_technical_email_blast               0.4755    0.0424  11.2156 0.0000     0.3924    0.5586\n",
      "attribution_technical_facebook                  0.4687    0.0290  16.1532 0.0000     0.4118    0.5255\n",
      "attribution_technical_facebook_organic          0.5811    0.0547  10.6178 0.0000     0.4738    0.6884\n",
      "attribution_technical_google_organic            0.0479    0.0395   1.2130 0.2251    -0.0295    0.1252\n",
      "attribution_technical_internal                  0.2059    0.0876   2.3498 0.0188     0.0342    0.3777\n",
      "attribution_technical_organic                   0.2539    0.0335   7.5760 0.0000     0.1882    0.3196\n",
      "attribution_technical_other                     0.0453    0.0642   0.7060 0.4802    -0.0805    0.1712\n",
      "attribution_technical_pinterest                -0.3577    0.0457  -7.8191 0.0000    -0.4473   -0.2680\n",
      "attribution_technical_podcast                  -0.9592    0.1148  -8.3546 0.0000    -1.1842   -0.7342\n",
      "attribution_technical_referral                 -2.1130    0.0554 -38.1347 0.0000    -2.2216   -2.0044\n",
      "attribution_technical_search                    0.0167    0.0324   0.5146 0.6068    -0.0469    0.0802\n",
      "=====================================================================================================\n",
      "\n"
     ]
    }
   ],
   "source": [
    "test_columns = df.columns[0:44]\n",
    "\n",
    "y = df['churn_TF']\n",
    "X = df[test_columns]\n",
    "X = X.drop('churn_TF',axis =1)\n",
    "\n",
    "logit_model=sm.Logit(y,X)\n",
    "result=logit_model.fit()\n",
    "print(result.summary2())"
   ]
  },
  {
   "cell_type": "code",
   "execution_count": 210,
   "metadata": {},
   "outputs": [],
   "source": [
    "cols=['num_weekly_services_utilized','weekly_consumption_hour','age','n_ideal_ss_2.0','n_ideal_ss_3.0', 'n_ideal_ss_NA',\\\n",
    "     'package_type_base','package_type_economy', 'package_type_enhanced','preferred_genre_comedy','preferred_genre_drama',\\\n",
    "     'preferred_genre_international','preferred_genre_other','preferred_genre_regional','intended_use_education',\\\n",
    "     'intended_use_other','male_TF_True','male_TF_NA','attribution_technical_bing','attribution_technical_bing_organic',\\\n",
    "     'attribution_technical_discovery','attribution_technical_display','attribution_technical_email','attribution_technical_email_blast',\\\n",
    "     'attribution_technical_facebook', 'attribution_technical_facebook_organic', 'attribution_technical_internal',\\\n",
    "      'attribution_technical_organic','attribution_technical_pinterest','attribution_technical_podcast',\\\n",
    "      'attribution_technical_referral','attribution_survey_affiliate','attribution_survey_amfm_radio','attribution_survey_facebook_organic',\\\n",
    "      'attribution_survey_other','attribution_survey_other','attribution_survey_ott','attribution_survey_pinterest',\\\n",
    "      'attribution_survey_podcast','attribution_survey_public_radio','attribution_survey_referral','attribution_survey_search',\\\n",
    "      'attribution_survey_social_organic','attribution_survey_youtube','op_sys_NA','op_sys_iOS','account_creation_date_201907'\\\n",
    "      ,'account_creation_date_201908','account_creation_date_201909','account_creation_date_201910','account_creation_date_201911',\\\n",
    "      'account_creation_date_201912','account_creation_date_202001','account_creation_date_202002','account_creation_date_202003',\\\n",
    "      'join_fee_0.0','join_fee_0.0367','join_fee_0.1101','join_fee_0.1835','join_fee_0.3303','join_fee_0.36700000000000005',\\\n",
    "      'join_fee_0.6239','join_fee_0.6606','join_fee_0.6973','join_fee_NA','payment_period_1','payment_period_2'] "
   ]
  },
  {
   "cell_type": "code",
   "execution_count": null,
   "metadata": {},
   "outputs": [],
   "source": []
  },
  {
   "cell_type": "code",
   "execution_count": 211,
   "metadata": {},
   "outputs": [
    {
     "name": "stderr",
     "output_type": "stream",
     "text": [
      "/Users/estelle/opt/anaconda3/lib/python3.8/site-packages/sklearn/linear_model/_logistic.py:762: ConvergenceWarning: lbfgs failed to converge (status=1):\n",
      "STOP: TOTAL NO. of ITERATIONS REACHED LIMIT.\n",
      "\n",
      "Increase the number of iterations (max_iter) or scale the data as shown in:\n",
      "    https://scikit-learn.org/stable/modules/preprocessing.html\n",
      "Please also refer to the documentation for alternative solver options:\n",
      "    https://scikit-learn.org/stable/modules/linear_model.html#logistic-regression\n",
      "  n_iter_i = _check_optimize_result(\n"
     ]
    },
    {
     "data": {
      "text/plain": [
       "LogisticRegression()"
      ]
     },
     "execution_count": 211,
     "metadata": {},
     "output_type": "execute_result"
    }
   ],
   "source": [
    "# Logistic Regression Model Fitting\n",
    "\n",
    "from sklearn.linear_model import LogisticRegression\n",
    "from sklearn import metrics\n",
    "\n",
    "y = df['churn_TF']\n",
    "X = df[cols]\n",
    "\n",
    "X_train, X_test, y_train, y_test = train_test_split(X, y, test_size=0.3, random_state=0)\n",
    "logreg = LogisticRegression()\n",
    "logreg.fit(X_train, y_train)\n"
   ]
  },
  {
   "cell_type": "code",
   "execution_count": 216,
   "metadata": {},
   "outputs": [
    {
     "name": "stdout",
     "output_type": "stream",
     "text": [
      "Accuracy of logistic regression classifier on test set: 0.97\n"
     ]
    }
   ],
   "source": [
    "y_pred = logreg.predict(X_test)\n",
    "y_pred_proba = logreg.predict_proba(X_test)\n",
    "print('Accuracy of logistic regression classifier on test set: {:.2f}'.format(logreg.score(X_test, y_test)))"
   ]
  },
  {
   "cell_type": "code",
   "execution_count": 214,
   "metadata": {},
   "outputs": [
    {
     "name": "stdout",
     "output_type": "stream",
     "text": [
      "[[35740   731]\n",
      " [  988 28016]]\n"
     ]
    }
   ],
   "source": [
    "# Confusion Matrix\n",
    "\n",
    "from sklearn.metrics import confusion_matrix\n",
    "confusion_matrix = confusion_matrix(y_test, y_pred)\n",
    "print(confusion_matrix)\n"
   ]
  },
  {
   "cell_type": "code",
   "execution_count": 218,
   "metadata": {},
   "outputs": [
    {
     "name": "stdout",
     "output_type": "stream",
     "text": [
      "              precision    recall  f1-score   support\n",
      "\n",
      "           0       0.97      0.98      0.98     36471\n",
      "           1       0.97      0.97      0.97     29004\n",
      "\n",
      "    accuracy                           0.97     65475\n",
      "   macro avg       0.97      0.97      0.97     65475\n",
      "weighted avg       0.97      0.97      0.97     65475\n",
      "\n"
     ]
    }
   ],
   "source": [
    "# score\n",
    "from sklearn.metrics import classification_report\n",
    "print(classification_report(y_test, y_pred))"
   ]
  },
  {
   "cell_type": "code",
   "execution_count": 220,
   "metadata": {},
   "outputs": [
    {
     "data": {
      "text/plain": [
       "0.9729462054554099"
      ]
     },
     "execution_count": 220,
     "metadata": {},
     "output_type": "execute_result"
    }
   ],
   "source": [
    "from sklearn.metrics import roc_auc_score\n",
    "from sklearn.metrics import roc_curve\n",
    "\n",
    "logit_roc_auc = roc_auc_score(y_test, logreg.predict(X_test))\n",
    "logit_roc_auc"
   ]
  },
  {
   "cell_type": "code",
   "execution_count": 223,
   "metadata": {},
   "outputs": [
    {
     "data": {
      "text/plain": [
       "array([[8.91787524e-05, 9.99910821e-01],\n",
       "       [6.42843292e-01, 3.57156708e-01],\n",
       "       [2.17795299e-04, 9.99782205e-01],\n",
       "       ...,\n",
       "       [1.63144988e-03, 9.98368550e-01],\n",
       "       [9.13976829e-03, 9.90860232e-01],\n",
       "       [8.98329750e-01, 1.01670250e-01]])"
      ]
     },
     "execution_count": 223,
     "metadata": {},
     "output_type": "execute_result"
    }
   ],
   "source": []
  },
  {
   "cell_type": "markdown",
   "metadata": {},
   "source": [
    "### fit model for whole dataset"
   ]
  },
  {
   "cell_type": "code",
   "execution_count": 226,
   "metadata": {},
   "outputs": [
    {
     "name": "stdout",
     "output_type": "stream",
     "text": [
      "Accuracy of logistic regression classifier on test set: 0.97\n"
     ]
    }
   ],
   "source": [
    "y_pred = logreg.predict(X)\n",
    "y_pred_proba = logreg.predict_proba(X)\n",
    "print('Accuracy of logistic regression classifier on test set: {:.2f}'.format(logreg.score(X, y)))"
   ]
  },
  {
   "cell_type": "code",
   "execution_count": null,
   "metadata": {},
   "outputs": [],
   "source": []
  },
  {
   "cell_type": "code",
   "execution_count": null,
   "metadata": {},
   "outputs": [],
   "source": []
  },
  {
   "cell_type": "code",
   "execution_count": 227,
   "metadata": {},
   "outputs": [],
   "source": [
    "df_y_pred_proba = pd.DataFrame(y_pred_proba)\n",
    "df_y_pred_proba.to_csv('churn_prediction_logistic.csv')"
   ]
  },
  {
   "cell_type": "code",
   "execution_count": null,
   "metadata": {},
   "outputs": [],
   "source": []
  },
  {
   "cell_type": "code",
   "execution_count": null,
   "metadata": {},
   "outputs": [],
   "source": []
  },
  {
   "cell_type": "code",
   "execution_count": null,
   "metadata": {},
   "outputs": [],
   "source": []
  }
 ],
 "metadata": {
  "kernelspec": {
   "display_name": "Python 3",
   "language": "python",
   "name": "python3"
  },
  "language_info": {
   "codemirror_mode": {
    "name": "ipython",
    "version": 3
   },
   "file_extension": ".py",
   "mimetype": "text/x-python",
   "name": "python",
   "nbconvert_exporter": "python",
   "pygments_lexer": "ipython3",
   "version": "3.8.3"
  }
 },
 "nbformat": 4,
 "nbformat_minor": 4
}
